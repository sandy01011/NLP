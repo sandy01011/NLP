{
 "cells": [
  {
   "cell_type": "markdown",
   "metadata": {},
   "source": [
    "# Voice analysis and modeling"
   ]
  },
  {
   "cell_type": "markdown",
   "metadata": {},
   "source": [
    "Objectives:\n",
    "\n",
    "1- Analyse sound.\n",
    "\n",
    "2- Human Voice filter.\n",
    "\n",
    "3- Voice feature tagger.\n",
    "\n",
    "4- Voice transcription."
   ]
  },
  {
   "cell_type": "markdown",
   "metadata": {},
   "source": [
    "### Sound Analysis"
   ]
  },
  {
   "cell_type": "markdown",
   "metadata": {},
   "source": [
    "##### Steps\n",
    "1- load sound data \n",
    "\n",
    "2- data analysis and visualization\n"
   ]
  },
  {
   "cell_type": "code",
   "execution_count": null,
   "metadata": {},
   "outputs": [],
   "source": [
    "# "
   ]
  }
 ],
 "metadata": {
  "kernelspec": {
   "display_name": "Python 3.10.6 ('aIoT')",
   "language": "python",
   "name": "python3"
  },
  "language_info": {
   "name": "python",
   "version": "3.10.6"
  },
  "orig_nbformat": 4,
  "vscode": {
   "interpreter": {
    "hash": "0a1e20bfa4a8bb16246a7fa6ece8e3088adc1868d846b0403f8945fbabad56c6"
   }
  }
 },
 "nbformat": 4,
 "nbformat_minor": 2
}
